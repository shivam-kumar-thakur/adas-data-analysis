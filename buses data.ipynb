{
 "cells": [
  {
   "cell_type": "code",
   "execution_count": 1,
   "id": "eeafc986",
   "metadata": {},
   "outputs": [],
   "source": [
    "import pandas as pd\n",
    "import math"
   ]
  },
  {
   "cell_type": "markdown",
   "id": "36dadc8d",
   "metadata": {},
   "source": [
    "# warnings seperated on buses"
   ]
  },
  {
   "cell_type": "code",
   "execution_count": 2,
   "id": "b294bef2",
   "metadata": {
    "scrolled": true
   },
   "outputs": [
    {
     "name": "stdout",
     "output_type": "stream",
     "text": [
      "      cas_ldw  cas_hmw  cas_fcw  cas_pcw  Total\n",
      "2846     2741     2409      145      391   5686\n",
      "805      2052     4227      158      438   6875\n",
      "1995        8        8        1        1     18\n",
      "5339      754     4117      204      767   5842\n",
      "3143      876     1567       82      379   2904\n"
     ]
    }
   ],
   "source": [
    "df=pd.read_csv(r\"unnati_phase1_data_revised.csv\")\n",
    "warnings=[\"cas_ldw\",\"cas_hmw\",\"cas_fcw\",\"cas_pcw\",\"Total\"]\n",
    "buses_warnings=pd.DataFrame(columns=warnings)\n",
    "buses=df[\"Vehicle\"].unique()\n",
    "j=0\n",
    "for i in buses:\n",
    "    count1=(df[(df[\"Vehicle\"]== buses[j] ) & (df[\"Alert\"]== warnings[0] )]).shape\n",
    "    count2=(df[(df[\"Vehicle\"]== buses[j] ) & (df[\"Alert\"]== warnings[1] )]).shape\n",
    "    count3=(df[(df[\"Vehicle\"]== buses[j] ) & (df[\"Alert\"]== warnings[2] )]).shape\n",
    "    count4=(df[(df[\"Vehicle\"]== buses[j] ) & (df[\"Alert\"]== warnings[3] )]).shape\n",
    "    buses_warnings.loc[i]=[count1[0],count2[0],count3[0],count4[0],(count1[0]+count2[0]+count3[0]+count4[0])] # since rows count we want\n",
    "    j=j+1\n",
    "print(buses_warnings)"
   ]
  },
  {
   "cell_type": "markdown",
   "id": "be91150b",
   "metadata": {},
   "source": [
    "frequency == hmw > ldw > pcw > fcw\n",
    "pcw order == 5339 > 805 (> or =) 2846 >3143 > 1995\n",
    "fcw order == 5339 > 2846 (> or =) 805 > 3143 >1995\n",
    "hmw order == 805 = 5339 > 2846 > 3143 >1995\n",
    "ldw order == 2846 > 805 > 3143 > 5339 > 1995\n",
    "\n",
    "pcw and fcw ka order same. why ? \n",
    "kya inn warninngs ka area bhi same hai ?\n",
    "\n",
    "1995 bus data is nearly 0 in comparision to  others ?\n"
   ]
  },
  {
   "cell_type": "markdown",
   "id": "924711de",
   "metadata": {},
   "source": [
    "# Seperate data based on buses, to see there routes"
   ]
  },
  {
   "cell_type": "code",
   "execution_count": 7,
   "id": "adc69de0",
   "metadata": {},
   "outputs": [
    {
     "name": "stdout",
     "output_type": "stream",
     "text": [
      "For vehicle  2846  doing now.\n",
      "For vehicle  805  doing now.\n",
      "For vehicle  1995  doing now.\n",
      "For vehicle  5339  doing now.\n",
      "For vehicle  3143  doing now.\n",
      "done\n"
     ]
    }
   ],
   "source": [
    "file_path = 'unnati_phase1_data_revised.csv'\n",
    "# Specify the path where you want to save the new CSV file.\n",
    "buses=[2846,805,1995,5339,3143]\n",
    "for i in buses: \n",
    "    print(\"For vehicle \",i,\" doing now.\")\n",
    "    output_file_path = str(i)+ \".csv\"\n",
    "    df=pd.read_csv(file_path)\n",
    "    condition=df[df['Vehicle']==i]\n",
    "    condition.to_csv(output_file_path,index=False)\n",
    "print(\"done\")\n",
    " # Save the selected rows to the new CSV file"
   ]
  },
  {
   "cell_type": "markdown",
   "id": "983b29cb",
   "metadata": {},
   "source": [
    "# code to seperate data based on warnings."
   ]
  },
  {
   "cell_type": "code",
   "execution_count": null,
   "id": "b4d53fa5",
   "metadata": {},
   "outputs": [],
   "source": [
    "file_path = 'unnati_phase1_data_revised.csv'\n",
    "# Specify the path where you want to save the new CSV file.\n",
    "# for cas_pcw we will do first\n",
    "output_file_path = 'cas_pcw.csv'  \n",
    "\n",
    "df = pd.read_csv(file_path)\n",
    "condition = df['Alert'].str.contains('cas_pcw', case=False)\n",
    "selected_rows = df[condition]\n",
    "\n",
    "selected_rows.to_csv(output_file_path, index=False)  # Save the selected rows to the new CSV file"
   ]
  }
 ],
 "metadata": {
  "kernelspec": {
   "display_name": "Python 3 (ipykernel)",
   "language": "python",
   "name": "python3"
  },
  "language_info": {
   "codemirror_mode": {
    "name": "ipython",
    "version": 3
   },
   "file_extension": ".py",
   "mimetype": "text/x-python",
   "name": "python",
   "nbconvert_exporter": "python",
   "pygments_lexer": "ipython3",
   "version": "3.11.4"
  }
 },
 "nbformat": 4,
 "nbformat_minor": 5
}
